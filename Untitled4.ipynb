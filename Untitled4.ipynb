{
  "metadata": {
    "language_info": {
      "codemirror_mode": {
        "name": "python",
        "version": 3
      },
      "file_extension": ".py",
      "mimetype": "text/x-python",
      "name": "python",
      "nbconvert_exporter": "python",
      "pygments_lexer": "ipython3",
      "version": "3.8"
    },
    "kernelspec": {
      "name": "python",
      "display_name": "Python (Pyodide)",
      "language": "python"
    }
  },
  "nbformat_minor": 4,
  "nbformat": 4,
  "cells": [
    {
      "cell_type": "code",
      "source": "for x in range(3, -1, -1,):\n    print(x)\n\n3\n2\n1\n0\nlist( range(3, -1, -1) )",
      "metadata": {
        "trusted": true
      },
      "execution_count": 19,
      "outputs": [
        {
          "name": "stdout",
          "text": "3\n2\n1\n0\n",
          "output_type": "stream"
        },
        {
          "execution_count": 19,
          "output_type": "execute_result",
          "data": {
            "text/plain": "[3, 2, 1, 0]"
          },
          "metadata": {}
        }
      ]
    },
    {
      "cell_type": "code",
      "source": "guess_me = 7\nnumber = 1\nwhile True:\n    number < guess_me:\n    print(\"too low\")\n    if number > guess_me: \n        print(\"oops\")\n        elif guess_me == number:\n            print(\"found it!\")\nelse: (\"please enter guess\")",
      "metadata": {},
      "execution_count": null,
      "outputs": []
    },
    {
      "cell_type": "code",
      "source": "guess_me = 5\nfor number in range(0,10):\n    if number< guess_me:\n        print(\"too low\")\n    elif number> guess_me:\n        print(\"oops\")\n    elif number == guess_me:\n        break\n    print(\"found it!\")",
      "metadata": {},
      "execution_count": null,
      "outputs": []
    }
  ]
}